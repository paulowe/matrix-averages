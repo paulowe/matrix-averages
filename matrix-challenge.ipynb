{
 "cells": [
  {
   "cell_type": "code",
   "execution_count": 87,
   "metadata": {},
   "outputs": [
    {
     "data": {
      "text/plain": [
       "(10, 10)"
      ]
     },
     "execution_count": 87,
     "metadata": {},
     "output_type": "execute_result"
    }
   ],
   "source": [
    "#Create a 10 x 10 matrix of random numbers\n",
    "import numpy as np\n",
    "matrix = np.random.rand(10,10)\n",
    "matrix.shape"
   ]
  },
  {
   "cell_type": "code",
   "execution_count": 88,
   "metadata": {},
   "outputs": [
    {
     "name": "stdout",
     "output_type": "stream",
     "text": [
      "(10,)\n",
      "(10,)\n"
     ]
    }
   ],
   "source": [
    "row_means = matrix.mean(axis = 1) #mean for each row\n",
    "col_means = matrix.mean(axis = 0) # mean for each col\n",
    "print(col_means.shape)\n",
    "print(row_means.shape)\n"
   ]
  },
  {
   "cell_type": "code",
   "execution_count": 89,
   "metadata": {},
   "outputs": [
    {
     "data": {
      "text/plain": [
       "(11, 10)"
      ]
     },
     "execution_count": 89,
     "metadata": {},
     "output_type": "execute_result"
    }
   ],
   "source": [
    "#insert last row as calculation of all averages from each columns using vstack\n",
    "matrix = np.vstack([matrix, col_means])\n",
    "matrix.shape"
   ]
  },
  {
   "cell_type": "code",
   "execution_count": 90,
   "metadata": {},
   "outputs": [
    {
     "name": "stdout",
     "output_type": "stream",
     "text": [
      "[0.53359875 0.5515396  0.53560352 0.61549572 0.50827128 0.21458914\n",
      " 0.51972178 0.50973146 0.61240492 0.49788147 0.        ]\n"
     ]
    }
   ],
   "source": [
    "row_means = np.append(row_means, 0) # put zero on the bottom right corner, as we dont need the average of the last row\n",
    "print(row_means)"
   ]
  },
  {
   "cell_type": "code",
   "execution_count": 93,
   "metadata": {},
   "outputs": [],
   "source": [
    "# Convert row means to 2d \n",
    "row_means_2d = np.reshape(row_means, (11, 1)) \n",
    "row_means_2d.shape #should now be 11 x 1\n",
    "\n",
    "#insert column at the end of our matrix \n",
    "matrix = np.hstack((matrix, row_means_2d))"
   ]
  },
  {
   "cell_type": "code",
   "execution_count": 94,
   "metadata": {},
   "outputs": [
    {
     "data": {
      "text/plain": [
       "(11, 11)"
      ]
     },
     "execution_count": 94,
     "metadata": {},
     "output_type": "execute_result"
    }
   ],
   "source": [
    "matrix.shape"
   ]
  }
 ],
 "metadata": {
  "kernelspec": {
   "display_name": "Python 3",
   "language": "python",
   "name": "python3"
  },
  "language_info": {
   "codemirror_mode": {
    "name": "ipython",
    "version": 3
   },
   "file_extension": ".py",
   "mimetype": "text/x-python",
   "name": "python",
   "nbconvert_exporter": "python",
   "pygments_lexer": "ipython3",
   "version": "3.7.4"
  }
 },
 "nbformat": 4,
 "nbformat_minor": 4
}
