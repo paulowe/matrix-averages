{
 "cells": [
  {
   "cell_type": "code",
   "execution_count": 1,
   "id": "1365a2ea-9ba2-4022-a601-0dfa888d74b5",
   "metadata": {},
   "outputs": [],
   "source": [
    "import pandas as pd"
   ]
  },
  {
   "cell_type": "markdown",
   "id": "d632260a-c8f2-4117-89ad-ad68eef41590",
   "metadata": {},
   "source": [
    "# What kind of data does pandas handle?\n",
    "\n",
    "I want to store passenger data of the Titanic. For a number of passengers, I know the name (characters), age (integers) and sex (male/female) data.\n",
    "\n",
    "To manually store data in a table, create a DataFrame. When using a python dictionary of lists, the dictionary keys will be used as column headers and the values in each list as columns of the DataFrame"
   ]
  },
  {
   "cell_type": "code",
   "execution_count": 10,
   "id": "6281810e-ae9c-4f05-9ec6-f55966d5ad0c",
   "metadata": {},
   "outputs": [],
   "source": [
    "table = pd.DataFrame({ \"First Name\": ['Paul', 'Flora', 'Charles'],\n",
    "                        \"Last Name\": ['Owe', 'Owe', 'Owe'],\n",
    "                      \"Age\" : [23, 55, 62],\n",
    "                      \"Gender\": ['M', 'F', 'M'],\n",
    "                      \"NumericalValue\": [4, 5, 7]\n",
    "})"
   ]
  },
  {
   "cell_type": "code",
   "execution_count": 11,
   "id": "637c588e-6bb4-4a87-ac9a-5a702c0de83e",
   "metadata": {},
   "outputs": [
    {
     "data": {
      "text/html": [
       "<div>\n",
       "<style scoped>\n",
       "    .dataframe tbody tr th:only-of-type {\n",
       "        vertical-align: middle;\n",
       "    }\n",
       "\n",
       "    .dataframe tbody tr th {\n",
       "        vertical-align: top;\n",
       "    }\n",
       "\n",
       "    .dataframe thead th {\n",
       "        text-align: right;\n",
       "    }\n",
       "</style>\n",
       "<table border=\"1\" class=\"dataframe\">\n",
       "  <thead>\n",
       "    <tr style=\"text-align: right;\">\n",
       "      <th></th>\n",
       "      <th>First Name</th>\n",
       "      <th>Last Name</th>\n",
       "      <th>Age</th>\n",
       "      <th>Gender</th>\n",
       "      <th>NumericalValue</th>\n",
       "    </tr>\n",
       "  </thead>\n",
       "  <tbody>\n",
       "    <tr>\n",
       "      <th>0</th>\n",
       "      <td>Paul</td>\n",
       "      <td>Owe</td>\n",
       "      <td>23</td>\n",
       "      <td>M</td>\n",
       "      <td>4</td>\n",
       "    </tr>\n",
       "    <tr>\n",
       "      <th>1</th>\n",
       "      <td>Flora</td>\n",
       "      <td>Owe</td>\n",
       "      <td>55</td>\n",
       "      <td>F</td>\n",
       "      <td>5</td>\n",
       "    </tr>\n",
       "    <tr>\n",
       "      <th>2</th>\n",
       "      <td>Charles</td>\n",
       "      <td>Owe</td>\n",
       "      <td>62</td>\n",
       "      <td>M</td>\n",
       "      <td>7</td>\n",
       "    </tr>\n",
       "  </tbody>\n",
       "</table>\n",
       "</div>"
      ],
      "text/plain": [
       "  First Name Last Name  Age Gender  NumericalValue\n",
       "0       Paul       Owe   23      M               4\n",
       "1      Flora       Owe   55      F               5\n",
       "2    Charles       Owe   62      M               7"
      ]
     },
     "execution_count": 11,
     "metadata": {},
     "output_type": "execute_result"
    }
   ],
   "source": [
    "table"
   ]
  },
  {
   "cell_type": "markdown",
   "id": "e6991da6-ada5-4cfe-8d7e-21f4ce83f4f4",
   "metadata": {},
   "source": [
    "A DataFrame is a 2D data structure that can store different types (including characters, integers, floating point values, categorical data, and more) in columns. It is similar to a spreadsheet\n",
    "\n",
    "- The table has 4 columns, each with a label.\n",
    "- The columns contain varying data types"
   ]
  },
  {
   "cell_type": "markdown",
   "id": "879c526b-1458-4191-8f3b-cb11b3da26d2",
   "metadata": {},
   "source": [
    "# Each column in a DataFrame is a Series\n",
    "If I am interested in only working with the column 'Age' then the result is a pandas Series.\n",
    "\n",
    "pandas.Series is a 1D ndarray with\n",
    "- no column labels since it is just a single column of a DataFrame \n",
    "- row labels (axis labels)"
   ]
  },
  {
   "cell_type": "code",
   "execution_count": 6,
   "id": "810d7378-ae1e-4bd4-8efb-e3597f2b657a",
   "metadata": {},
   "outputs": [
    {
     "data": {
      "text/plain": [
       "0    23\n",
       "1    55\n",
       "2    62\n",
       "Name: Age, dtype: int64"
      ]
     },
     "execution_count": 6,
     "metadata": {},
     "output_type": "execute_result"
    }
   ],
   "source": [
    "age = table['Age']\n",
    "age"
   ]
  },
  {
   "cell_type": "markdown",
   "id": "3ff9b655-acef-4026-8165-f2bfb4a960b0",
   "metadata": {},
   "source": [
    "### Doing something with a DataFrame or Series\n",
    "\n",
    "1. Numerical data columns"
   ]
  },
  {
   "cell_type": "code",
   "execution_count": 7,
   "id": "0b2962ce-e505-4a56-95a7-e1b60f0932e0",
   "metadata": {},
   "outputs": [
    {
     "data": {
      "text/plain": [
       "62"
      ]
     },
     "execution_count": 7,
     "metadata": {},
     "output_type": "execute_result"
    }
   ],
   "source": [
    "age.max()"
   ]
  },
  {
   "cell_type": "code",
   "execution_count": 8,
   "id": "a22aed2f-d7cf-4db2-9b20-c0c1bc2573e8",
   "metadata": {},
   "outputs": [
    {
     "data": {
      "text/plain": [
       "62"
      ]
     },
     "execution_count": 8,
     "metadata": {},
     "output_type": "execute_result"
    }
   ],
   "source": [
    "table['Age'].max()"
   ]
  },
  {
   "cell_type": "code",
   "execution_count": 31,
   "id": "ef6377fa-5a47-40e2-960e-b746d6b6dfe4",
   "metadata": {},
   "outputs": [
    {
     "data": {
      "text/plain": [
       "count     3.000000\n",
       "mean     46.666667\n",
       "std      20.792627\n",
       "min      23.000000\n",
       "25%      39.000000\n",
       "50%      55.000000\n",
       "75%      58.500000\n",
       "max      62.000000\n",
       "Name: Age, dtype: float64"
      ]
     },
     "execution_count": 31,
     "metadata": {},
     "output_type": "execute_result"
    }
   ],
   "source": [
    "age.describe()"
   ]
  },
  {
   "cell_type": "markdown",
   "id": "ca1601d7-b9cd-4852-a368-94e2ad90af19",
   "metadata": {},
   "source": [
    "### Basic statistics of the numerical data of my data table\n",
    "\n",
    "The describe() method provides a quick overview of the numerical data in a DataFrame. As the Name and Gender columns are textual data, these are by default not taken into account by the describe() method.\n",
    "\n",
    "The describe() method is an example of a pandas operation returning a pandas Series.\n",
    "\n",
    "To return descriptions of categorical data as well use include ='all'\n"
   ]
  },
  {
   "cell_type": "code",
   "execution_count": 18,
   "id": "c5b386d3-3347-41c8-bf1d-f8827954e67e",
   "metadata": {},
   "outputs": [
    {
     "data": {
      "text/html": [
       "<div>\n",
       "<style scoped>\n",
       "    .dataframe tbody tr th:only-of-type {\n",
       "        vertical-align: middle;\n",
       "    }\n",
       "\n",
       "    .dataframe tbody tr th {\n",
       "        vertical-align: top;\n",
       "    }\n",
       "\n",
       "    .dataframe thead th {\n",
       "        text-align: right;\n",
       "    }\n",
       "</style>\n",
       "<table border=\"1\" class=\"dataframe\">\n",
       "  <thead>\n",
       "    <tr style=\"text-align: right;\">\n",
       "      <th></th>\n",
       "      <th>First Name</th>\n",
       "      <th>Last Name</th>\n",
       "      <th>Age</th>\n",
       "      <th>Gender</th>\n",
       "      <th>NumericalValue</th>\n",
       "    </tr>\n",
       "  </thead>\n",
       "  <tbody>\n",
       "    <tr>\n",
       "      <th>count</th>\n",
       "      <td>3</td>\n",
       "      <td>3</td>\n",
       "      <td>3.000000</td>\n",
       "      <td>3</td>\n",
       "      <td>3.000000</td>\n",
       "    </tr>\n",
       "    <tr>\n",
       "      <th>unique</th>\n",
       "      <td>3</td>\n",
       "      <td>1</td>\n",
       "      <td>NaN</td>\n",
       "      <td>2</td>\n",
       "      <td>NaN</td>\n",
       "    </tr>\n",
       "    <tr>\n",
       "      <th>top</th>\n",
       "      <td>Paul</td>\n",
       "      <td>Owe</td>\n",
       "      <td>NaN</td>\n",
       "      <td>M</td>\n",
       "      <td>NaN</td>\n",
       "    </tr>\n",
       "    <tr>\n",
       "      <th>freq</th>\n",
       "      <td>1</td>\n",
       "      <td>3</td>\n",
       "      <td>NaN</td>\n",
       "      <td>2</td>\n",
       "      <td>NaN</td>\n",
       "    </tr>\n",
       "    <tr>\n",
       "      <th>mean</th>\n",
       "      <td>NaN</td>\n",
       "      <td>NaN</td>\n",
       "      <td>46.666667</td>\n",
       "      <td>NaN</td>\n",
       "      <td>5.333333</td>\n",
       "    </tr>\n",
       "    <tr>\n",
       "      <th>std</th>\n",
       "      <td>NaN</td>\n",
       "      <td>NaN</td>\n",
       "      <td>20.792627</td>\n",
       "      <td>NaN</td>\n",
       "      <td>1.527525</td>\n",
       "    </tr>\n",
       "    <tr>\n",
       "      <th>min</th>\n",
       "      <td>NaN</td>\n",
       "      <td>NaN</td>\n",
       "      <td>23.000000</td>\n",
       "      <td>NaN</td>\n",
       "      <td>4.000000</td>\n",
       "    </tr>\n",
       "    <tr>\n",
       "      <th>25%</th>\n",
       "      <td>NaN</td>\n",
       "      <td>NaN</td>\n",
       "      <td>39.000000</td>\n",
       "      <td>NaN</td>\n",
       "      <td>4.500000</td>\n",
       "    </tr>\n",
       "    <tr>\n",
       "      <th>50%</th>\n",
       "      <td>NaN</td>\n",
       "      <td>NaN</td>\n",
       "      <td>55.000000</td>\n",
       "      <td>NaN</td>\n",
       "      <td>5.000000</td>\n",
       "    </tr>\n",
       "    <tr>\n",
       "      <th>75%</th>\n",
       "      <td>NaN</td>\n",
       "      <td>NaN</td>\n",
       "      <td>58.500000</td>\n",
       "      <td>NaN</td>\n",
       "      <td>6.000000</td>\n",
       "    </tr>\n",
       "    <tr>\n",
       "      <th>max</th>\n",
       "      <td>NaN</td>\n",
       "      <td>NaN</td>\n",
       "      <td>62.000000</td>\n",
       "      <td>NaN</td>\n",
       "      <td>7.000000</td>\n",
       "    </tr>\n",
       "  </tbody>\n",
       "</table>\n",
       "</div>"
      ],
      "text/plain": [
       "       First Name Last Name        Age Gender  NumericalValue\n",
       "count           3         3   3.000000      3        3.000000\n",
       "unique          3         1        NaN      2             NaN\n",
       "top          Paul       Owe        NaN      M             NaN\n",
       "freq            1         3        NaN      2             NaN\n",
       "mean          NaN       NaN  46.666667    NaN        5.333333\n",
       "std           NaN       NaN  20.792627    NaN        1.527525\n",
       "min           NaN       NaN  23.000000    NaN        4.000000\n",
       "25%           NaN       NaN  39.000000    NaN        4.500000\n",
       "50%           NaN       NaN  55.000000    NaN        5.000000\n",
       "75%           NaN       NaN  58.500000    NaN        6.000000\n",
       "max           NaN       NaN  62.000000    NaN        7.000000"
      ]
     },
     "execution_count": 18,
     "metadata": {},
     "output_type": "execute_result"
    }
   ],
   "source": [
    "table.describe(include='all')"
   ]
  },
  {
   "cell_type": "markdown",
   "id": "6693b95e-4938-4c42-be5c-33d936de05a4",
   "metadata": {},
   "source": [
    "### Index of min/max values"
   ]
  },
  {
   "cell_type": "code",
   "execution_count": 30,
   "id": "10ec9b35-f200-46fe-ba9d-66ba2226d885",
   "metadata": {},
   "outputs": [
    {
     "data": {
      "text/plain": [
       "0    0.482802\n",
       "1    0.955417\n",
       "2    0.160979\n",
       "3    0.872252\n",
       "4    0.025665\n",
       "dtype: float64"
      ]
     },
     "execution_count": 30,
     "metadata": {},
     "output_type": "execute_result"
    }
   ],
   "source": [
    "import numpy as np\n",
    "series = pd.Series(np.random.rand(5)) #Because this is a series, it should be 1D\n",
    "series"
   ]
  },
  {
   "cell_type": "code",
   "execution_count": 32,
   "id": "988ca299-ff02-4ecc-8d84-2a73f6c243ea",
   "metadata": {},
   "outputs": [
    {
     "data": {
      "text/plain": [
       "4"
      ]
     },
     "execution_count": 32,
     "metadata": {},
     "output_type": "execute_result"
    }
   ],
   "source": [
    "series.idxmin() #returns the row index of the min value in this series"
   ]
  },
  {
   "cell_type": "code",
   "execution_count": 33,
   "id": "70ec3edc-8b4c-4472-87a7-51462ad474c4",
   "metadata": {},
   "outputs": [
    {
     "data": {
      "text/plain": [
       "1"
      ]
     },
     "execution_count": 33,
     "metadata": {},
     "output_type": "execute_result"
    }
   ],
   "source": [
    "series.idxmax() # returns the row index of the max value"
   ]
  },
  {
   "cell_type": "code",
   "execution_count": 35,
   "id": "804b5a91-6ac4-4c50-861a-c7c684ca0134",
   "metadata": {},
   "outputs": [],
   "source": [
    "minmaxtup = series.idxmin(), series.idxmax() # return tuple"
   ]
  },
  {
   "cell_type": "code",
   "execution_count": 40,
   "id": "8ad9d6b5-d07a-4a69-b223-fef6bde9bc44",
   "metadata": {},
   "outputs": [
    {
     "data": {
      "text/plain": [
       "tuple"
      ]
     },
     "execution_count": 40,
     "metadata": {},
     "output_type": "execute_result"
    }
   ],
   "source": [
    "type(minmaxtup) #check data structure type"
   ]
  },
  {
   "cell_type": "code",
   "execution_count": null,
   "id": "09b43ed0-bfb6-4994-bd65-d06076b04994",
   "metadata": {},
   "outputs": [],
   "source": []
  },
  {
   "cell_type": "code",
   "execution_count": null,
   "id": "5dfe2522-e5eb-44dd-8715-632bedf687c5",
   "metadata": {},
   "outputs": [],
   "source": []
  }
 ],
 "metadata": {
  "kernelspec": {
   "display_name": "Python 3",
   "language": "python",
   "name": "python3"
  },
  "language_info": {
   "codemirror_mode": {
    "name": "ipython",
    "version": 3
   },
   "file_extension": ".py",
   "mimetype": "text/x-python",
   "name": "python",
   "nbconvert_exporter": "python",
   "pygments_lexer": "ipython3",
   "version": "3.8.8"
  }
 },
 "nbformat": 4,
 "nbformat_minor": 5
}
